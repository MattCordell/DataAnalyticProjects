{
 "cells": [
  {
   "cell_type": "markdown",
   "metadata": {},
   "source": [
    "Intro blurb\n",
    "\n",
    "#http://pygments.org/demo/"
   ]
  },
  {
   "cell_type": "code",
   "execution_count": 1,
   "metadata": {},
   "outputs": [],
   "source": [
    "#!pip install --user --upgrade pip\n",
    "import pandas as pd\n",
    "\n",
    "#!pip install --user matplotlib-venn\n",
    "import matplotlib.pyplot as plt\n",
    "from matplotlib_venn import venn2, venn2_circles\n",
    "from matplotlib_venn import venn3, venn3_circles\n",
    "plt.style.use('tableau-colorblind10')"
   ]
  },
  {
   "cell_type": "markdown",
   "metadata": {},
   "source": [
    "Start of importing our dataset. the last two columns set to strings, not necessary, but improves visualls in this notebook."
   ]
  },
  {
   "cell_type": "code",
   "execution_count": 40,
   "metadata": {},
   "outputs": [
    {
     "name": "stdout",
     "output_type": "stream",
     "text": [
      "  Sex         DoB PostCode  Condition          Medication\n",
      "0   F  26/04/1998      B03  102930000    7086011000036102\n",
      "1   F  24/01/1953      E00   49512000    1112071000168105\n",
      "2   M   7/09/1943      E00  277627005    5604011000036100\n",
      "3   M   1/01/1966      E00    3109008       3231000036108\n",
      "4   F  14/02/1957      E00  723409007    6286011000036105\n",
      "5   M  14/08/1961      E00    3272007     761951000168100\n",
      "6   F  28/01/1986      C04   86225009  921045011000036104\n",
      "7   F  15/06/1983      C04  163577001                 NaN\n",
      "8   F  23/05/1967      C04  191737008  927853011000036101\n",
      "9   F  29/01/1983      C04  718393002     787621000168109\n",
      "       Sex         DoB PostCode  Condition         Medication\n",
      "499995   M   9/07/2000      B09  446180007   1018201000168102\n",
      "499996   F   9/01/1989      B09   24109003    747131000168107\n",
      "499997   M  21/04/2018      B09  770624005  87322011000036100\n",
      "499998   M  16/01/1984      B09  443919007  36227011000036103\n",
      "499999   M  28/03/1995      B09  723913009   5081011000036108\n",
      "\n",
      "\n",
      "Number of unique Condition codes :24647\n",
      "Number of unique Medication codes :10128\n"
     ]
    }
   ],
   "source": [
    "codeSet = pd.read_table('SCT_HDA_2019_Dataset.txt',dtype={'Condition':str,'Medication':str})\n",
    "#we don't need First and Last Name\n",
    "codeSet.drop([\"First\", \"Last\"], axis=1,inplace=True)\n",
    "\n",
    "print(codeSet.head(10))\n",
    "print(codeSet.tail(5))\n",
    "print('\\n')\n",
    "\n",
    "print('Number of unique Condition codes :'+str(codeSet['Condition'].nunique()))\n",
    "print('Number of unique Medication codes :'+str(codeSet['Medication'].nunique()))\n"
   ]
  },
  {
   "cell_type": "markdown",
   "metadata": {},
   "source": [
    "With almost 25 thousand codes here, we can aggregate somehow to make some sense. SNOMED CT isn't designed for any specific usecase and such versatility allows us to aggregate however we want.\n",
    "\n",
    "The approach discribed in this notebook is:\n",
    "    * Define aggregation categories using SNOMED CT Expression Constraint Language (ECL)\n",
    "    * Identify all the codes that match our category, using Ontoserver to perform valueSet Expansions.\n",
    "    * Store each expansion in a Hash Set for fast (O(1)) lookup.\n",
    "    * Use the Sets to filter our dataset and optionally create human readable labels.\n",
    "    * Use standard analytic approaches to report and visualise the data."
   ]
  },
  {
   "cell_type": "markdown",
   "metadata": {},
   "source": [
    "We'll be performing a lot of expansions, so to start with, let's create a function that accepts an ECL string and returns the populated set.\n",
    "\n",
    "A complete expansion call looks something like \n",
    "\n",
    "`https://ontoserver.csiro.au/stu3-latest/ValueSet/$expand?url=http://snomed.info/sct?fhir_vs=ecl/<74978011000036101`\n",
    "\n",
    "The function below takes an ECL expression, and generates a safe URL. ie. special characters in the ECL are handled."
   ]
  },
  {
   "cell_type": "code",
   "execution_count": 3,
   "metadata": {},
   "outputs": [],
   "source": [
    "#!pip install --user fhir.resources\n",
    "import requests #for Rest calls\n",
    "\n",
    "#Fhir ValueSet makes parsing the json responses easier.\n",
    "from fhir.resources.valueset import ValueSet \n",
    "\n",
    "def PopulateSetWithECL(ecl):\n",
    "    endpoint= \"https://ontoserver.csiro.au/stu3-latest\"\n",
    "    expandAPI=\"/ValueSet/$expand\"\n",
    "    sctValueSetUrl='http://snomed.info/sct?fhir_vs=ecl/'    \n",
    "    urlParam={'url':sctValueSetUrl+ecl}    \n",
    "    \n",
    "    response=requests.get(endpoint+expandAPI,params=urlParam)\n",
    "    j=response.json()\n",
    "    vs=ValueSet(j)\n",
    "\n",
    "    #add every code to set()\n",
    "    _set=set()\n",
    "    for e in vs.expansion.contains:          \n",
    "        _set.add(e.code)    \n",
    "    \n",
    "    return _set\n",
    "        \n",
    "#The above function is not production quality.\n",
    "#response.status_code should be checked, and pagination may be required for large value sets.        "
   ]
  },
  {
   "cell_type": "markdown",
   "metadata": {},
   "source": [
    "To Start with, let's create some general categories to see what sort of health conditions are in the datase.\n",
    "Each category will be defined as a tuple consisting of the ECL defition, and a label."
   ]
  },
  {
   "cell_type": "code",
   "execution_count": 4,
   "metadata": {},
   "outputs": [
    {
     "data": {
      "text/html": [
       "<div>\n",
       "<style scoped>\n",
       "    .dataframe tbody tr th:only-of-type {\n",
       "        vertical-align: middle;\n",
       "    }\n",
       "\n",
       "    .dataframe tbody tr th {\n",
       "        vertical-align: top;\n",
       "    }\n",
       "\n",
       "    .dataframe thead th {\n",
       "        text-align: right;\n",
       "    }\n",
       "</style>\n",
       "<table border=\"1\" class=\"dataframe\">\n",
       "  <thead>\n",
       "    <tr style=\"text-align: right;\">\n",
       "      <th></th>\n",
       "      <th>Sex</th>\n",
       "      <th>DoB</th>\n",
       "      <th>PostCode</th>\n",
       "      <th>Condition</th>\n",
       "      <th>Medication</th>\n",
       "      <th>Category</th>\n",
       "    </tr>\n",
       "  </thead>\n",
       "  <tbody>\n",
       "    <tr>\n",
       "      <th>499990</th>\n",
       "      <td>F</td>\n",
       "      <td>9/08/1948</td>\n",
       "      <td>C05</td>\n",
       "      <td>19766004</td>\n",
       "      <td>929393011000036104</td>\n",
       "      <td>Mental illness</td>\n",
       "    </tr>\n",
       "    <tr>\n",
       "      <th>499991</th>\n",
       "      <td>M</td>\n",
       "      <td>22/04/1982</td>\n",
       "      <td>C05</td>\n",
       "      <td>371079004</td>\n",
       "      <td>NaN</td>\n",
       "      <td>Other Condition</td>\n",
       "    </tr>\n",
       "    <tr>\n",
       "      <th>499992</th>\n",
       "      <td>F</td>\n",
       "      <td>29/03/1961</td>\n",
       "      <td>B09</td>\n",
       "      <td>5874002</td>\n",
       "      <td>36047011000036109</td>\n",
       "      <td>Other Condition</td>\n",
       "    </tr>\n",
       "    <tr>\n",
       "      <th>499993</th>\n",
       "      <td>M</td>\n",
       "      <td>12/09/2014</td>\n",
       "      <td>B09</td>\n",
       "      <td>277823007</td>\n",
       "      <td>6441011000036106</td>\n",
       "      <td>Other Condition</td>\n",
       "    </tr>\n",
       "    <tr>\n",
       "      <th>499994</th>\n",
       "      <td>M</td>\n",
       "      <td>7/02/1969</td>\n",
       "      <td>B09</td>\n",
       "      <td>167778007</td>\n",
       "      <td>NaN</td>\n",
       "      <td>Other Condition</td>\n",
       "    </tr>\n",
       "    <tr>\n",
       "      <th>499995</th>\n",
       "      <td>M</td>\n",
       "      <td>9/07/2000</td>\n",
       "      <td>B09</td>\n",
       "      <td>446180007</td>\n",
       "      <td>1018201000168102</td>\n",
       "      <td>Mental illness</td>\n",
       "    </tr>\n",
       "    <tr>\n",
       "      <th>499996</th>\n",
       "      <td>F</td>\n",
       "      <td>9/01/1989</td>\n",
       "      <td>B09</td>\n",
       "      <td>24109003</td>\n",
       "      <td>747131000168107</td>\n",
       "      <td>Other Condition</td>\n",
       "    </tr>\n",
       "    <tr>\n",
       "      <th>499997</th>\n",
       "      <td>M</td>\n",
       "      <td>21/04/2018</td>\n",
       "      <td>B09</td>\n",
       "      <td>770624005</td>\n",
       "      <td>87322011000036100</td>\n",
       "      <td>Other Condition</td>\n",
       "    </tr>\n",
       "    <tr>\n",
       "      <th>499998</th>\n",
       "      <td>M</td>\n",
       "      <td>16/01/1984</td>\n",
       "      <td>B09</td>\n",
       "      <td>443919007</td>\n",
       "      <td>36227011000036103</td>\n",
       "      <td>Mental illness</td>\n",
       "    </tr>\n",
       "    <tr>\n",
       "      <th>499999</th>\n",
       "      <td>M</td>\n",
       "      <td>28/03/1995</td>\n",
       "      <td>B09</td>\n",
       "      <td>723913009</td>\n",
       "      <td>5081011000036108</td>\n",
       "      <td>Mental illness</td>\n",
       "    </tr>\n",
       "  </tbody>\n",
       "</table>\n",
       "</div>"
      ],
      "text/plain": [
       "       Sex         DoB PostCode  Condition          Medication  \\\n",
       "499990   F   9/08/1948      C05   19766004  929393011000036104   \n",
       "499991   M  22/04/1982      C05  371079004                 NaN   \n",
       "499992   F  29/03/1961      B09    5874002   36047011000036109   \n",
       "499993   M  12/09/2014      B09  277823007    6441011000036106   \n",
       "499994   M   7/02/1969      B09  167778007                 NaN   \n",
       "499995   M   9/07/2000      B09  446180007    1018201000168102   \n",
       "499996   F   9/01/1989      B09   24109003     747131000168107   \n",
       "499997   M  21/04/2018      B09  770624005   87322011000036100   \n",
       "499998   M  16/01/1984      B09  443919007   36227011000036103   \n",
       "499999   M  28/03/1995      B09  723913009    5081011000036108   \n",
       "\n",
       "               Category  \n",
       "499990   Mental illness  \n",
       "499991  Other Condition  \n",
       "499992  Other Condition  \n",
       "499993  Other Condition  \n",
       "499994  Other Condition  \n",
       "499995   Mental illness  \n",
       "499996  Other Condition  \n",
       "499997  Other Condition  \n",
       "499998   Mental illness  \n",
       "499999   Mental illness  "
      ]
     },
     "execution_count": 4,
     "metadata": {},
     "output_type": "execute_result"
    }
   ],
   "source": [
    "healthCategories=[\n",
    "('<<106028002','Musculoskeletal problems'),\n",
    "('<<106048009','Respiratory problems'),\n",
    "('<<195967001','Asthma'),\n",
    "('<<363346000','Cancer'),\n",
    "('<<13645005','COPD'),\n",
    "('<<73211009','Diabetes mellitus'),\n",
    "('<<106063007','Cardiovascular problems'),\n",
    "('<<249578005','Kidney problems'),\n",
    "('<<74732009','Mental illness'),\n",
    "('<<40733004','Infectious disease'),\n",
    "('<<414022008','Blood disease')\n",
    "]\n",
    "\n",
    "#loop through the categories and label any entry that matches the healthCategory with that label.\n",
    "#using simple boolean filter\n",
    "\n",
    "for category in healthCategories:\n",
    "    categorySet = PopulateSetWithECL(category[0])\n",
    "    filter = codeSet[\"Condition\"].isin(categorySet)\n",
    "    codeSet.loc[filter,\"Category\"] = category[1]\n",
    "\n",
    "codeSet.loc[codeSet[\"Category\"].isnull(),\"Category\"] = \"Other Condition\"\n",
    "    \n",
    "codeSet.head(10)\n",
    "codeSet.tail(10)"
   ]
  },
  {
   "cell_type": "markdown",
   "metadata": {},
   "source": [
    "Now we've applied a basic label, we can generate basic summary of these health conditions, by Sex."
   ]
  },
  {
   "cell_type": "code",
   "execution_count": 5,
   "metadata": {},
   "outputs": [
    {
     "data": {
      "text/plain": [
       "Category                  Sex\n",
       "Blood disease             F        7741\n",
       "                          M        3295\n",
       "Cancer                    F        1909\n",
       "                          M        3298\n",
       "Cardiovascular problems   F       13716\n",
       "                          M       10481\n",
       "Diabetes mellitus         F       18463\n",
       "                          M       10362\n",
       "Infectious disease        F        1435\n",
       "                          M         368\n",
       "Kidney problems           F         531\n",
       "                          M         356\n",
       "Mental illness            F      106980\n",
       "                          M      104910\n",
       "Musculoskeletal problems  F        1817\n",
       "                          M        1400\n",
       "Other Condition           F      107163\n",
       "                          M      105340\n",
       "Respiratory problems      F         230\n",
       "                          M         205\n",
       "dtype: int64"
      ]
     },
     "execution_count": 5,
     "metadata": {},
     "output_type": "execute_result"
    }
   ],
   "source": [
    "#codeSet[['Category','Sex','Condition']].groupby(['Category','Sex']).count()\n",
    "codeSet.groupby(['Category','Sex']).size()"
   ]
  },
  {
   "cell_type": "markdown",
   "metadata": {},
   "source": [
    "It's important to note that SNOMED CT is polyheirarchy. Such that codes may appear in more than one lineage. This may or may or may not be of consequence, depending on what your specific use case. Considering our original categories, there's some obvious potential overlap, with the very broad 'Respiratory problems'. However a quick look at the sets as Venn diagram, shows how much overlap there really is."
   ]
  },
  {
   "cell_type": "code",
   "execution_count": 20,
   "metadata": {},
   "outputs": [
    {
     "ename": "AttributeError",
     "evalue": "'AxesSubplot' object has no attribute 'style'",
     "output_type": "error",
     "traceback": [
      "\u001b[1;31m---------------------------------------------------------------------------\u001b[0m",
      "\u001b[1;31mAttributeError\u001b[0m                            Traceback (most recent call last)",
      "\u001b[1;32m<ipython-input-20-cc6343386f6a>\u001b[0m in \u001b[0;36m<module>\u001b[1;34m()\u001b[0m\n\u001b[0;32m     11\u001b[0m \u001b[1;31m#Generate a few Venn Diagrams illustrating overlap with the \"Respiratory\" category\u001b[0m\u001b[1;33m\u001b[0m\u001b[1;33m\u001b[0m\u001b[0m\n\u001b[0;32m     12\u001b[0m \u001b[0mfigure\u001b[0m\u001b[1;33m,\u001b[0m \u001b[0maxes\u001b[0m \u001b[1;33m=\u001b[0m \u001b[0mplt\u001b[0m\u001b[1;33m.\u001b[0m\u001b[0msubplots\u001b[0m\u001b[1;33m(\u001b[0m\u001b[1;36m2\u001b[0m\u001b[1;33m,\u001b[0m \u001b[1;36m2\u001b[0m\u001b[1;33m,\u001b[0m \u001b[0mfigsize\u001b[0m\u001b[1;33m=\u001b[0m\u001b[1;33m(\u001b[0m\u001b[1;36m13\u001b[0m\u001b[1;33m,\u001b[0m\u001b[1;36m13\u001b[0m\u001b[1;33m)\u001b[0m\u001b[1;33m)\u001b[0m\u001b[1;33m\u001b[0m\u001b[0m\n\u001b[1;32m---> 13\u001b[1;33m \u001b[0max\u001b[0m\u001b[1;33m.\u001b[0m\u001b[0mstyle\u001b[0m\u001b[1;33m.\u001b[0m\u001b[0muse\u001b[0m\u001b[1;33m(\u001b[0m\u001b[1;34m'tableau-colorblind10'\u001b[0m\u001b[1;33m)\u001b[0m\u001b[1;33m\u001b[0m\u001b[0m\n\u001b[0m\u001b[0;32m     14\u001b[0m \u001b[0mvenn3\u001b[0m\u001b[1;33m(\u001b[0m\u001b[1;33m[\u001b[0m\u001b[0mRespiratory\u001b[0m\u001b[1;33m,\u001b[0m\u001b[0mAsthma\u001b[0m\u001b[1;33m,\u001b[0m\u001b[0mCOPD\u001b[0m\u001b[1;33m]\u001b[0m\u001b[1;33m,\u001b[0m\u001b[0mset_labels\u001b[0m\u001b[1;33m=\u001b[0m\u001b[1;33m(\u001b[0m\u001b[1;34m'Respiratory'\u001b[0m\u001b[1;33m,\u001b[0m\u001b[1;34m'Asthma'\u001b[0m\u001b[1;33m,\u001b[0m\u001b[1;34m'COPD'\u001b[0m\u001b[1;33m)\u001b[0m\u001b[1;33m,\u001b[0m\u001b[0max\u001b[0m\u001b[1;33m=\u001b[0m\u001b[0maxes\u001b[0m\u001b[1;33m[\u001b[0m\u001b[1;36m0\u001b[0m\u001b[1;33m]\u001b[0m\u001b[1;33m[\u001b[0m\u001b[1;36m0\u001b[0m\u001b[1;33m]\u001b[0m\u001b[1;33m)\u001b[0m\u001b[1;33m\u001b[0m\u001b[0m\n\u001b[0;32m     15\u001b[0m \u001b[0mvenn3\u001b[0m\u001b[1;33m(\u001b[0m\u001b[1;33m[\u001b[0m\u001b[0mRespiratory\u001b[0m\u001b[1;33m,\u001b[0m\u001b[0mCardiovascular\u001b[0m\u001b[1;33m,\u001b[0m\u001b[0mInfectious\u001b[0m\u001b[1;33m]\u001b[0m\u001b[1;33m,\u001b[0m\u001b[0mset_labels\u001b[0m\u001b[1;33m=\u001b[0m\u001b[1;33m(\u001b[0m\u001b[1;34m'Respiratory'\u001b[0m\u001b[1;33m,\u001b[0m\u001b[1;34m'Cardiovascular'\u001b[0m\u001b[1;33m,\u001b[0m\u001b[1;34m'Infectious'\u001b[0m\u001b[1;33m)\u001b[0m\u001b[1;33m,\u001b[0m\u001b[0max\u001b[0m\u001b[1;33m=\u001b[0m\u001b[0maxes\u001b[0m\u001b[1;33m[\u001b[0m\u001b[1;36m0\u001b[0m\u001b[1;33m]\u001b[0m\u001b[1;33m[\u001b[0m\u001b[1;36m1\u001b[0m\u001b[1;33m]\u001b[0m\u001b[1;33m)\u001b[0m\u001b[1;33m\u001b[0m\u001b[0m\n",
      "\u001b[1;31mAttributeError\u001b[0m: 'AxesSubplot' object has no attribute 'style'"
     ]
    },
    {
     "data": {
      "image/png": "[encoded data removed]",
      "text/plain": [
       "<Figure size 936x936 with 4 Axes>"
      ]
     },
     "metadata": {},
     "output_type": "display_data"
    }
   ],
   "source": [
    "Respiratory = PopulateSetWithECL('<<106048009')\n",
    "Asthma = PopulateSetWithECL('<<195967001')\n",
    "COPD = PopulateSetWithECL('<<13645005')\n",
    "Cardiovascular = PopulateSetWithECL('<<106063007')\n",
    "Infectious = PopulateSetWithECL('<<40733004')\n",
    "Cancer = PopulateSetWithECL('<<363346000')\n",
    "Diabetes = PopulateSetWithECL('<<73211009')\n",
    "Kidney = PopulateSetWithECL('<<249578005')\n",
    "Musculoskeletal = PopulateSetWithECL('<<106028002')\n",
    "\n",
    "#Generate a few Venn Diagrams illustrating overlap with the \"Respiratory\" category\n",
    "figure, axes = plt.subplots(2, 2, figsize=(13,13))\n",
    "plt.style.use('tableau-colorblind10')\n",
    "venn3([Respiratory,Asthma,COPD],set_labels=('Respiratory','Asthma','COPD'),ax=axes[0][0])\n",
    "venn3([Respiratory,Cardiovascular,Infectious],set_labels=('Respiratory','Cardiovascular','Infectious'),ax=axes[0][1])\n",
    "venn3([Respiratory,Cancer,Musculoskeletal],set_labels=('Respiratory','Cancer','Musculoskeletal'),ax=axes[1][0])\n",
    "venn3([Respiratory,Diabetes,Kidney],set_labels=('Respiratory','Diabetes','Kidney'),ax=axes[1][1])\n",
    "plt.tight_layout()\n",
    "#figure.suptitle(\"Comparison of Overlap between Categories\")\n",
    "plt.savefig(\"Respiratory.svg\",transparent=True)\n",
    "plt.show()"
   ]
  },
  {
   "cell_type": "markdown",
   "metadata": {},
   "source": [
    "The approach so far has categoriesed the conditions in the given sequence, such that later conditions matching later categories will be over-riden. Inversely, the labels could be applied only to 'unlabled' episodes, such that episodes are labeled in order of priority and not overridden.\n",
    "\n",
    "It is also possible to build disjointness into the categories using ECL, if required. For example:\n",
    "\n",
    "_Respiratory problems excluding Cancer, Musculoskeletal and infectious disorders_ could be specified as:\n",
    "\n",
    "`<<106048009|Respiratory| minus (<<363346000|Cancer| OR  <<106028002|Musculoskeletal|OR <<40733004|Infectious)`\n",
    "\n",
    "\n",
    "The approach taken, depends on the analytics use case and wether or not it's acceptable to \"double count\" episodes. Consider an analysis of the diabetes patients."
   ]
  },
  {
   "cell_type": "code",
   "execution_count": 16,
   "metadata": {},
   "outputs": [
    {
     "name": "stdout",
     "output_type": "stream",
     "text": [
      "Number of Diabetes mellitus episodes : 28825\n",
      "Number of Type 1 DM episodes : 14648\n",
      "Number of Type 2 DM episodes : 13215\n",
      "Number of DM during pregnancy episodes : 1464\n",
      "Number of Gestational diabetes mellitus episodes : 26\n",
      "Number of Pre-existing DM in pregnancy episodes : 716\n",
      "Sum of all the counted episodes : 30069\n"
     ]
    },
    {
     "data": {
      "image/png": "[encoded data removed]",
      "text/plain": [
       "<Figure size 432x288 with 1 Axes>"
      ]
     },
     "metadata": {},
     "output_type": "display_data"
    }
   ],
   "source": [
    "DiabetesEpisodes=codeSet[codeSet[\"Category\"]=='Diabetes mellitus'].copy()\n",
    "print(\"Number of Diabetes mellitus episodes : \" + str(DiabetesEpisodes.shape[0]))\n",
    "\n",
    "DiabetesCategories=[\n",
    "('<<46635009','Type 1 DM'),\n",
    "('<<44054006','Type 2 DM'),\n",
    "('<<199223000','DM during pregnancy'),\n",
    "('<<11687002','Gestational diabetes mellitus'),\n",
    "('<<609563008','Pre-existing DM in pregnancy')\n",
    "]\n",
    "total=0\n",
    "\n",
    "for d in DiabetesCategories:\n",
    "    count=DiabetesEpisodes[DiabetesEpisodes[\"Condition\"].isin(PopulateSetWithECL(d[0]))].shape[0]\n",
    "    print(\"Number of {0} episodes : {1}\".format(d[1],count))\n",
    "    total+=count\n",
    "\n",
    "print(\"Sum of all the counted episodes : {0}\".format(total))\n",
    "\n",
    "T1DM=PopulateSetWithECL('<<46635009')\n",
    "T2DM=PopulateSetWithECL('<<44054006')\n",
    "Gestational=PopulateSetWithECL('<<199223000')\n",
    "\n",
    "venn3([T1DM,Gestational,T2DM],set_labels=('Type 1','Pregnancy','Type 2'))\n",
    "\n",
    "plt.tight_layout()\n",
    "plt.savefig(\"Diabetes.svg\",transparent=True)\n",
    "plt.show()"
   ]
  },
  {
   "cell_type": "code",
   "execution_count": 29,
   "metadata": {
    "scrolled": true
   },
   "outputs": [],
   "source": [
    "opioids= [('<34841011000036108','dihydrocodeine'),\n",
    "('<21480011000036107','hydromorphone'),\n",
    "('<21821011000036104','codeine'),\n",
    "('<21705011000036108','pholcodine'),\n",
    "('<21232011000036101','buprenorphine'),\n",
    "('<21357011000036109','methadone'),\n",
    "('<135971000036102','tapentadol'),\n",
    "('<21258011000036102','fentanyl'),\n",
    "('<21259011000036105','oxycodone'),\n",
    "('<34838011000036103','remifentanil'),\n",
    "('<34836011000036102','alfentanil'),\n",
    "('<21252011000036100','morphine'),\n",
    "('<21486011000036105','tramadol'),\n",
    "('<21901011000036101','dextropropoxyphene'),\n",
    "('<34839011000036106','pethidine'),\n",
    "('<1247191000168104','sufentanil')]\n",
    "\n",
    "for opioid in opioids:\n",
    "    opioidSet = PopulateSetWithECL(opioid[0])\n",
    "    filt = codeSet[\"Medication\"].isin(opioidSet)\n",
    "    codeSet.loc[filt,\"Opioid\"] = opioid[1]\n",
    "    \n",
    "OpioidEpisodes=codeSet[codeSet['Opioid'].notnull()]\n",
    "\n"
   ]
  },
  {
   "cell_type": "code",
   "execution_count": 39,
   "metadata": {},
   "outputs": [
    {
     "name": "stdout",
     "output_type": "stream",
     "text": [
      "    Sex         Medication                 Category              Opioid\n",
      "65    M   7349011000036100  Cardiovascular problems           oxycodone\n",
      "89    M    789601000168105  Cardiovascular problems           oxycodone\n",
      "205   F    763001000168101  Cardiovascular problems           oxycodone\n",
      "219   M   1070441000168107          Other Condition             codeine\n",
      "247   M   1064391000168109  Cardiovascular problems             codeine\n",
      "271   M  53819011000036106  Cardiovascular problems             codeine\n",
      "365   F  40235011000036102  Cardiovascular problems  dextropropoxyphene\n",
      "561   M   1070991000168109  Cardiovascular problems             codeine\n",
      "648   F   1048081000168105           Mental illness       buprenorphine\n",
      "931   M    778581000168103  Cardiovascular problems           oxycodone\n",
      "       Sex          Medication                 Category              Opioid\n",
      "499582   F     779571000168107  Cardiovascular problems       buprenorphine\n",
      "499602   F    1047931000168107  Cardiovascular problems       buprenorphine\n",
      "499635   F  923053011000036107  Cardiovascular problems            tramadol\n",
      "499691   F    1068801000168102  Cardiovascular problems             codeine\n",
      "499738   F   34022011000036100           Mental illness           methadone\n",
      "499798   F    6724011000036102  Cardiovascular problems            morphine\n",
      "499802   M     785911000168101  Cardiovascular problems            fentanyl\n",
      "499847   F   36137011000036103  Cardiovascular problems            tramadol\n",
      "499903   M    1072311000168103  Cardiovascular problems             codeine\n",
      "499951   M   36062011000036104  Cardiovascular problems  dextropropoxyphene\n",
      "codeine               2690\n",
      "oxycodone             1180\n",
      "buprenorphine          850\n",
      "morphine               782\n",
      "tramadol               669\n",
      "fentanyl               637\n",
      "hydromorphone          193\n",
      "methadone              126\n",
      "tapentadol              65\n",
      "pethidine               40\n",
      "dihydrocodeine          40\n",
      "pholcodine              38\n",
      "dextropropoxyphene      31\n",
      "Name: Opioid, dtype: int64\n"
     ]
    }
   ],
   "source": [
    "print(OpioidEpisodes[['Sex','Medication','Category','Opioid']].head(10))\n",
    "print(OpioidEpisodes[['Sex','Medication','Category','Opioid']].tail(10))\n",
    "\n",
    "print(OpioidEpisodes['Opioid'].value_counts())"
   ]
  },
  {
   "cell_type": "code",
   "execution_count": 14,
   "metadata": {
    "scrolled": true
   },
   "outputs": [
    {
     "data": {
      "image/png": "[encoded data removed]",
      "text/plain": [
       "<Figure size 432x288 with 1 Axes>"
      ]
     },
     "metadata": {},
     "output_type": "display_data"
    }
   ],
   "source": [
    "maleOpioids=OpioidEpisodes[OpioidEpisodes[\"Sex\"]=='M']['Opioid'].value_counts().sort_index()\n",
    "femaleOpioids=OpioidEpisodes[OpioidEpisodes[\"Sex\"]=='F']['Opioid'].value_counts().sort_index()\n",
    "OpioidIndex=OpioidEpisodes['Opioid'].value_counts().sort_index().index.tolist()\n",
    "\n",
    "df = pd.DataFrame({'Male': maleOpioids,\n",
    "                   'Female': femaleOpioids}, \n",
    "                   index=OpioidIndex)\n",
    "\n",
    "\n",
    "plt.style.use('tableau-colorblind10')\n",
    "ax = df.plot.barh()\n",
    "ax.spines['right'].set_visible(False)\n",
    "ax.spines['top'].set_visible(False)\n",
    "\n",
    "ax.grid(b=None,axis='y')\n",
    "ax.set_title('Opioid usage by Sex')\n",
    "plt.tight_layout()\n",
    "\n",
    "plt.savefig(\"OpioidUsage.svg\",transparent=True)\n",
    "plt.show()"
   ]
  },
  {
   "attachments": {
    "image.png": {
     "image/png": "[encoded data removed]"
    }
   },
   "cell_type": "markdown",
   "metadata": {},
   "source": [
    "All the ECL used so far have been simple subsumption queries, yet the language supports so much more expresivity! Concepts in SNOMED CT, are defined with attributes that can also be queried in ECL. AMT even supports numerical queries, such as identifying \"All aspirin products with a strength greater than 200mg\"\n",
    "\n",
    "<table border=\"0\">\n",
    " <tr>\n",
    "    <td>![image.png](attachment:image.png)</td>\n",
    "    <td>\n",
    "        <div style=\"text-align: left\">\n",
    "        ECL to identify all products with at least 200mg of aspirin, and no other ingredients\n",
    "        <code>\n",
    "        <30497011000036103|medicinal product|:\n",
    "        {\n",
    "         30364011000036101|has Australian BoSS|=1817011000036100|aspirin|,\n",
    "         700000111000036105|Strength| >= #200,\n",
    "         177631000036102|has unit|=700000801000036102|mg/each|\n",
    "        }\n",
    "       ,[1..1] 700000081000036101|has intended active ingredient|=ANY\n",
    "        </code>\n",
    "        </div>        \n",
    "   </td>\n",
    " </tr>\n",
    "</table>"
   ]
  },
  {
   "cell_type": "code",
   "execution_count": 17,
   "metadata": {},
   "outputs": [
    {
     "data": {
      "image/png": "[encoded data removed]",
      "text/plain": [
       "<Figure size 432x288 with 1 Axes>"
      ]
     },
     "metadata": {},
     "output_type": "display_data"
    }
   ],
   "source": [
    "lowDoseAspirinProductsECL= '<30497011000036103:{30364011000036101=1817011000036100,700000111000036105 < #200,177631000036102=700000801000036102},[1..1] 700000081000036101=*'\n",
    "HighDoseAspirinProductsECL='<30497011000036103:{30364011000036101=1817011000036100,700000111000036105 >= #200,177631000036102=700000801000036102},[1..1] 700000081000036101=*'\n",
    "CombinationAspirinProductsECL='<21719011000036107:[2..*] 700000081000036101=*'\n",
    "\n",
    "#Doing something different this time...\n",
    "#Rather than inplace labeling the dataframe. The ECL Set filters are applied, and the rows are counted.\n",
    "lowDoseEpisodeCount=codeSet.loc[codeSet[\"Medication\"].isin(PopulateSetWithECL(lowDoseAspirinProductsECL))].shape[0]\n",
    "HighDoseEpisodesCount=codeSet.loc[codeSet[\"Medication\"].isin(PopulateSetWithECL(HighDoseAspirinProductsECL))].shape[0]\n",
    "CombinationEpisodesCount=codeSet.loc[codeSet[\"Medication\"].isin(PopulateSetWithECL(CombinationAspirinProductsECL))].shape[0]\n",
    "\n",
    "#Illustrate the results with a Pie Chart\n",
    "labels = 'Low Dose', 'High Dose', 'Combination Products'\n",
    "sizes = [lowDoseEpisodeCount,HighDoseEpisodesCount,CombinationEpisodesCount]\n",
    "fig, ax = plt.subplots()\n",
    "ax.pie(sizes, explode=(0, 0, 0.1), labels=labels,\n",
    "       autopct=lambda p: '{:.0f}'.format((p/100)*sum(sizes)),\n",
    "        shadow=False, startangle=90)\n",
    "ax.axis('equal')\n",
    "ax.set_title('Episode Counts of Aspirin Usage')\n",
    "plt.tight_layout()\n",
    "plt.savefig(\"AspirinUsage.svg\",transparent=True)\n",
    "plt.show()"
   ]
  },
  {
   "cell_type": "code",
   "execution_count": null,
   "metadata": {},
   "outputs": [],
   "source": []
  }
 ],
 "metadata": {
  "kernelspec": {
   "display_name": "Python 3",
   "language": "python",
   "name": "python3"
  },
  "language_info": {
   "codemirror_mode": {
    "name": "ipython",
    "version": 3
   },
   "file_extension": ".py",
   "mimetype": "text/x-python",
   "name": "python",
   "nbconvert_exporter": "python",
   "pygments_lexer": "ipython3",
   "version": "3.6.5"
  }
 },
 "nbformat": 4,
 "nbformat_minor": 2
}
